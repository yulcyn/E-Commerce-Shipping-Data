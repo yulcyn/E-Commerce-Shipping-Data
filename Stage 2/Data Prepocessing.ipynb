{
 "cells": [
  {
   "cell_type": "code",
   "execution_count": 6,
   "id": "e3c1ac29-498d-46eb-9aa1-6cb6eb567bae",
   "metadata": {},
   "outputs": [],
   "source": [
    "import pandas as pd\n",
    "import matplotlib.pyplot as plt\n",
    "import seaborn as sns\n",
    "import numpy as np\n",
    "from matplotlib import pyplot\n",
    "from sklearn.preprocessing import StandardScaler, MinMaxScaler\n",
    "from scipy.stats import boxcox"
   ]
  },
  {
   "cell_type": "code",
   "execution_count": 7,
   "id": "771fb613-c4e3-4bd2-9d72-693a59e7da89",
   "metadata": {},
   "outputs": [],
   "source": [
    "df = pd.read_csv('Train.csv')"
   ]
  },
  {
   "cell_type": "markdown",
   "id": "01daaa1d-4c35-4929-8ba4-af10dc3886ff",
   "metadata": {},
   "source": [
    "# Stage 2"
   ]
  },
  {
   "cell_type": "markdown",
   "id": "3c12e7be-6dbe-464e-a23d-88a75f89e5a3",
   "metadata": {},
   "source": [
    "## Data Preprocessing"
   ]
  },
  {
   "cell_type": "code",
   "execution_count": 8,
   "id": "76f0445b-f4e5-4d80-bf78-ff1c67f757f5",
   "metadata": {},
   "outputs": [
    {
     "data": {
      "text/html": [
       "<div>\n",
       "<style scoped>\n",
       "    .dataframe tbody tr th:only-of-type {\n",
       "        vertical-align: middle;\n",
       "    }\n",
       "\n",
       "    .dataframe tbody tr th {\n",
       "        vertical-align: top;\n",
       "    }\n",
       "\n",
       "    .dataframe thead th {\n",
       "        text-align: right;\n",
       "    }\n",
       "</style>\n",
       "<table border=\"1\" class=\"dataframe\">\n",
       "  <thead>\n",
       "    <tr style=\"text-align: right;\">\n",
       "      <th></th>\n",
       "      <th>ID</th>\n",
       "      <th>Warehouse_block</th>\n",
       "      <th>Mode_of_Shipment</th>\n",
       "      <th>Customer_care_calls</th>\n",
       "      <th>Customer_rating</th>\n",
       "      <th>Cost_of_the_Product</th>\n",
       "      <th>Prior_purchases</th>\n",
       "      <th>Product_importance</th>\n",
       "      <th>Gender</th>\n",
       "      <th>Discount_offered</th>\n",
       "      <th>Weight_in_gms</th>\n",
       "      <th>Reached.on.Time_Y.N</th>\n",
       "    </tr>\n",
       "  </thead>\n",
       "  <tbody>\n",
       "    <tr>\n",
       "      <th>0</th>\n",
       "      <td>1</td>\n",
       "      <td>D</td>\n",
       "      <td>Flight</td>\n",
       "      <td>4</td>\n",
       "      <td>2</td>\n",
       "      <td>177</td>\n",
       "      <td>3</td>\n",
       "      <td>low</td>\n",
       "      <td>F</td>\n",
       "      <td>44</td>\n",
       "      <td>1233</td>\n",
       "      <td>1</td>\n",
       "    </tr>\n",
       "    <tr>\n",
       "      <th>1</th>\n",
       "      <td>2</td>\n",
       "      <td>F</td>\n",
       "      <td>Flight</td>\n",
       "      <td>4</td>\n",
       "      <td>5</td>\n",
       "      <td>216</td>\n",
       "      <td>2</td>\n",
       "      <td>low</td>\n",
       "      <td>M</td>\n",
       "      <td>59</td>\n",
       "      <td>3088</td>\n",
       "      <td>1</td>\n",
       "    </tr>\n",
       "    <tr>\n",
       "      <th>2</th>\n",
       "      <td>3</td>\n",
       "      <td>A</td>\n",
       "      <td>Flight</td>\n",
       "      <td>2</td>\n",
       "      <td>2</td>\n",
       "      <td>183</td>\n",
       "      <td>4</td>\n",
       "      <td>low</td>\n",
       "      <td>M</td>\n",
       "      <td>48</td>\n",
       "      <td>3374</td>\n",
       "      <td>1</td>\n",
       "    </tr>\n",
       "    <tr>\n",
       "      <th>3</th>\n",
       "      <td>4</td>\n",
       "      <td>B</td>\n",
       "      <td>Flight</td>\n",
       "      <td>3</td>\n",
       "      <td>3</td>\n",
       "      <td>176</td>\n",
       "      <td>4</td>\n",
       "      <td>medium</td>\n",
       "      <td>M</td>\n",
       "      <td>10</td>\n",
       "      <td>1177</td>\n",
       "      <td>1</td>\n",
       "    </tr>\n",
       "    <tr>\n",
       "      <th>4</th>\n",
       "      <td>5</td>\n",
       "      <td>C</td>\n",
       "      <td>Flight</td>\n",
       "      <td>2</td>\n",
       "      <td>2</td>\n",
       "      <td>184</td>\n",
       "      <td>3</td>\n",
       "      <td>medium</td>\n",
       "      <td>F</td>\n",
       "      <td>46</td>\n",
       "      <td>2484</td>\n",
       "      <td>1</td>\n",
       "    </tr>\n",
       "  </tbody>\n",
       "</table>\n",
       "</div>"
      ],
      "text/plain": [
       "   ID Warehouse_block Mode_of_Shipment  Customer_care_calls  Customer_rating  \\\n",
       "0   1               D           Flight                    4                2   \n",
       "1   2               F           Flight                    4                5   \n",
       "2   3               A           Flight                    2                2   \n",
       "3   4               B           Flight                    3                3   \n",
       "4   5               C           Flight                    2                2   \n",
       "\n",
       "   Cost_of_the_Product  Prior_purchases Product_importance Gender  \\\n",
       "0                  177                3                low      F   \n",
       "1                  216                2                low      M   \n",
       "2                  183                4                low      M   \n",
       "3                  176                4             medium      M   \n",
       "4                  184                3             medium      F   \n",
       "\n",
       "   Discount_offered  Weight_in_gms  Reached.on.Time_Y.N  \n",
       "0                44           1233                    1  \n",
       "1                59           3088                    1  \n",
       "2                48           3374                    1  \n",
       "3                10           1177                    1  \n",
       "4                46           2484                    1  "
      ]
     },
     "execution_count": 8,
     "metadata": {},
     "output_type": "execute_result"
    }
   ],
   "source": [
    "df.head(5)"
   ]
  },
  {
   "cell_type": "code",
   "execution_count": 9,
   "id": "04ff3d7d-ac31-4669-91d5-08f44641c3cb",
   "metadata": {},
   "outputs": [],
   "source": [
    "df_new = df.drop(columns=['ID'])"
   ]
  },
  {
   "cell_type": "code",
   "execution_count": 10,
   "id": "e010daf2-8e13-466f-ae8f-0f6b1d7dc9fe",
   "metadata": {},
   "outputs": [],
   "source": [
    "#Mengubah isi kolom warehouse block dari F menjadi E\n",
    "df_new['Warehouse_block'] = df_new['Warehouse_block'].replace(['F'], ['E'])"
   ]
  },
  {
   "cell_type": "code",
   "execution_count": 11,
   "id": "73e3920e-6aa3-4fb5-9d72-51c38d2b685c",
   "metadata": {},
   "outputs": [],
   "source": [
    "#Mengubah kolom Reached_on_Time\n",
    "df_new.rename(columns = {'Reached.on.Time_Y.N':'Reached_on_Time'}, inplace = True)"
   ]
  },
  {
   "cell_type": "markdown",
   "id": "9dac3f9f-38c4-4553-a142-e1dde5d7b04a",
   "metadata": {},
   "source": [
    "Lakukan Pembersihan data, sesuai yang diajarkan di kelas, seperti: <br>\n",
    "* a. Handle missing values <br>\n",
    "* b. Handle duplicated data <br>\n",
    "* c. Handle outliers <br>\n",
    "* d. Feature transformation <br>\n",
    "* e. Feature encoding <br>\n",
    "* f. Handle class imbalance <br>\n",
    "* Dilaporan homework, tuliskan apa saja yang telah dilakukan dan metode yang digunakan <br>\n",
    "\n",
    "* Tetap tuliskan jika memang tidak ada yang perlu di handle (contoh: \"Tidak perlu feature encoding karena semua feature sudah numerical\" atau \"Outlier tidak di handle karena akan fokus menggunakan model yang robust terhadap outlier\")"
   ]
  },
  {
   "cell_type": "markdown",
   "id": "9cd3792e-2026-4378-a600-e7b85ac67670",
   "metadata": {},
   "source": [
    "# A. Handle missing values"
   ]
  },
  {
   "cell_type": "code",
   "execution_count": 12,
   "id": "a20bd4e4-b606-4e98-976b-e907cd159d35",
   "metadata": {},
   "outputs": [
    {
     "data": {
      "text/plain": [
       "Warehouse_block        0\n",
       "Mode_of_Shipment       0\n",
       "Customer_care_calls    0\n",
       "Customer_rating        0\n",
       "Cost_of_the_Product    0\n",
       "Prior_purchases        0\n",
       "Product_importance     0\n",
       "Gender                 0\n",
       "Discount_offered       0\n",
       "Weight_in_gms          0\n",
       "Reached_on_Time        0\n",
       "dtype: int64"
      ]
     },
     "execution_count": 12,
     "metadata": {},
     "output_type": "execute_result"
    }
   ],
   "source": [
    "df_new.isna().sum()"
   ]
  },
  {
   "cell_type": "markdown",
   "id": "e11dea8e-2c4d-497a-b91a-856299c85093",
   "metadata": {},
   "source": [
    "Tidak ada nilai yang hilang sehingga tidak ada yang harus di handle"
   ]
  },
  {
   "cell_type": "markdown",
   "id": "b603faf9-e2d9-4f00-a235-74069c4c1670",
   "metadata": {},
   "source": [
    "# B. Handle Duplicated data"
   ]
  },
  {
   "cell_type": "code",
   "execution_count": 13,
   "id": "2bd2e6a4-2368-4f37-9bc5-e94a916a98f9",
   "metadata": {},
   "outputs": [
    {
     "data": {
      "text/plain": [
       "0"
      ]
     },
     "execution_count": 13,
     "metadata": {},
     "output_type": "execute_result"
    }
   ],
   "source": [
    "df_new.duplicated().sum()"
   ]
  },
  {
   "cell_type": "markdown",
   "id": "02afeb88-b3c0-4269-9fcb-40c3ee8061b0",
   "metadata": {},
   "source": [
    "Tidak ada values yang duplikasi sehingga tidak ada data yang harus di hande"
   ]
  },
  {
   "cell_type": "markdown",
   "id": "0696b388-0821-48db-9193-9dde672c9ebf",
   "metadata": {},
   "source": [
    "# C. Handle outliers"
   ]
  },
  {
   "cell_type": "code",
   "execution_count": 14,
   "id": "c7035fa7-2b63-481a-a10b-9f2a4b3e731e",
   "metadata": {},
   "outputs": [
    {
     "name": "stderr",
     "output_type": "stream",
     "text": [
      "C:\\Users\\ASUS TUF\\anaconda3\\lib\\site-packages\\seaborn\\_core.py:1326: UserWarning: Vertical orientation ignored with only `x` specified.\n",
      "  warnings.warn(single_var_warning.format(\"Vertical\", \"x\"))\n"
     ]
    },
    {
     "data": {
      "image/png": "[encoded data removed]",
      "text/plain": [
       "<Figure size 432x288 with 1 Axes>"
      ]
     },
     "metadata": {
      "needs_background": "light"
     },
     "output_type": "display_data"
    }
   ],
   "source": [
    "sns.boxplot(x=df_new[\"Prior_purchases\"], color='green', orient='v');"
   ]
  },
  {
   "cell_type": "code",
   "execution_count": 15,
   "id": "3cd83f18-80c9-4318-9d41-9b09d6ce0c6c",
   "metadata": {},
   "outputs": [
    {
     "name": "stderr",
     "output_type": "stream",
     "text": [
      "C:\\Users\\ASUS TUF\\anaconda3\\lib\\site-packages\\seaborn\\_core.py:1326: UserWarning: Vertical orientation ignored with only `x` specified.\n",
      "  warnings.warn(single_var_warning.format(\"Vertical\", \"x\"))\n"
     ]
    },
    {
     "data": {
      "image/png": "[encoded data removed]",
      "text/plain": [
       "<Figure size 432x288 with 1 Axes>"
      ]
     },
     "metadata": {
      "needs_background": "light"
     },
     "output_type": "display_data"
    }
   ],
   "source": [
    "sns.boxplot(x=df_new[\"Discount_offered\"], color='green', orient='v');"
   ]
  },
  {
   "cell_type": "markdown",
   "id": "cb440312-fee0-49e6-bdb3-d848548b3a45",
   "metadata": {},
   "source": [
    "Kesimpulan\n",
    "* Outlier pada kolom prior purchases tidak perlu dibuang dikarenakan nilainya masih dalam batas wajar (kecuali ada nilai yang < 0 sehingga harus dilakukan drop pada kolom tersebut)\n",
    "* Outlier pada kolom Discount offered tidak perlu dibuang dikarenakan discount yang diberikan masih dalam batas wajar (karena discount yang diberikan tidak melebihi 100%)"
   ]
  },
  {
   "cell_type": "markdown",
   "id": "f9b12511-b867-4ca2-a95c-45e110fad96b",
   "metadata": {},
   "source": [
    "# D. Feature Transformation"
   ]
  },
  {
   "cell_type": "code",
   "execution_count": 16,
   "id": "8288bdfa-8bc5-4f68-b87a-172eb9998127",
   "metadata": {},
   "outputs": [
    {
     "data": {
      "image/png": "[encoded data removed]",
      "text/plain": [
       "<Figure size 432x288 with 1 Axes>"
      ]
     },
     "metadata": {
      "needs_background": "light"
     },
     "output_type": "display_data"
    }
   ],
   "source": [
    "sns.kdeplot(x=df_new[\"Cost_of_the_Product\"]);"
   ]
  },
  {
   "cell_type": "code",
   "execution_count": 17,
   "id": "d6355ea2-96d8-49a9-b0fc-fc8a9c9345e0",
   "metadata": {},
   "outputs": [
    {
     "data": {
      "text/html": [
       "<div>\n",
       "<style scoped>\n",
       "    .dataframe tbody tr th:only-of-type {\n",
       "        vertical-align: middle;\n",
       "    }\n",
       "\n",
       "    .dataframe tbody tr th {\n",
       "        vertical-align: top;\n",
       "    }\n",
       "\n",
       "    .dataframe thead th {\n",
       "        text-align: right;\n",
       "    }\n",
       "</style>\n",
       "<table border=\"1\" class=\"dataframe\">\n",
       "  <thead>\n",
       "    <tr style=\"text-align: right;\">\n",
       "      <th></th>\n",
       "      <th>index</th>\n",
       "      <th>Cost_of_the_Product</th>\n",
       "    </tr>\n",
       "  </thead>\n",
       "  <tbody>\n",
       "    <tr>\n",
       "      <th>0</th>\n",
       "      <td>skew</td>\n",
       "      <td>-0.157117</td>\n",
       "    </tr>\n",
       "    <tr>\n",
       "      <th>1</th>\n",
       "      <td>kurtosis</td>\n",
       "      <td>-0.972160</td>\n",
       "    </tr>\n",
       "  </tbody>\n",
       "</table>\n",
       "</div>"
      ],
      "text/plain": [
       "      index  Cost_of_the_Product\n",
       "0      skew            -0.157117\n",
       "1  kurtosis            -0.972160"
      ]
     },
     "execution_count": 17,
     "metadata": {},
     "output_type": "execute_result"
    }
   ],
   "source": [
    "# Fungsi untuk mengetahui berapa skewed grafik tersebut\n",
    "\"\"\" jika nilai skewed -0.5 atau 0.5 adalah Fairy Symmetrical\n",
    "    jika nilai skewed -0.5 sampai -1.0 dan 0.5 sampai 1.0 adalah Moderate Skewed\n",
    "    jika nilai skewed < -1.0 dan > 1.0 adalah Highly Skewed\n",
    "\"\"\"\n",
    "df_new[('Cost_of_the_Product')].agg(['skew', 'kurtosis']).transpose().reset_index()"
   ]
  },
  {
   "cell_type": "code",
   "execution_count": 18,
   "id": "4a125303-f13a-49db-b84e-98f38ea3f4c4",
   "metadata": {},
   "outputs": [],
   "source": [
    "df_new['Cost_of_the_Product'] = np.random.exponential(size=10999)"
   ]
  },
  {
   "cell_type": "code",
   "execution_count": 19,
   "id": "bd7b2594-0f66-4307-bda8-55d676005faf",
   "metadata": {},
   "outputs": [
    {
     "name": "stderr",
     "output_type": "stream",
     "text": [
      "C:\\Users\\ASUS TUF\\anaconda3\\lib\\site-packages\\seaborn\\distributions.py:2619: FutureWarning: `distplot` is a deprecated function and will be removed in a future version. Please adapt your code to use either `displot` (a figure-level function with similar flexibility) or `kdeplot` (an axes-level function for kernel density plots).\n",
      "  warnings.warn(msg, FutureWarning)\n"
     ]
    },
    {
     "data": {
      "image/png": "[encoded data removed]",
      "text/plain": [
       "<Figure size 432x288 with 1 Axes>"
      ]
     },
     "metadata": {
      "needs_background": "light"
     },
     "output_type": "display_data"
    }
   ],
   "source": [
    "sns.distplot(df_new['Cost_of_the_Product'], hist=False, kde=True);"
   ]
  },
  {
   "cell_type": "code",
   "execution_count": 20,
   "id": "33fd080f-e743-44a3-8569-742711829a56",
   "metadata": {},
   "outputs": [],
   "source": [
    "df_new['Cost_of_the_Product_tf'], _ = boxcox(df_new['Cost_of_the_Product'])"
   ]
  },
  {
   "cell_type": "code",
   "execution_count": 21,
   "id": "0dd567ec-6a23-475c-ad0e-b450e7c7f1f5",
   "metadata": {},
   "outputs": [
    {
     "data": {
      "image/png": "[encoded data removed]",
      "text/plain": [
       "<Figure size 432x288 with 1 Axes>"
      ]
     },
     "metadata": {
      "needs_background": "light"
     },
     "output_type": "display_data"
    }
   ],
   "source": [
    "sns.kdeplot(x=df_new[\"Cost_of_the_Product_tf\"]);"
   ]
  },
  {
   "cell_type": "code",
   "execution_count": 22,
   "id": "27839b1b-8b8d-4989-82d0-83678310b3e2",
   "metadata": {},
   "outputs": [],
   "source": [
    "df_new['Cost_of_the_Product_tf'] = StandardScaler().fit_transform(df_new['Cost_of_the_Product'].values.reshape(len(df), 1))"
   ]
  },
  {
   "cell_type": "markdown",
   "id": "08f5a564-3fba-49f6-8915-ed8f2dd25431",
   "metadata": {},
   "source": [
    "## Discount Offered"
   ]
  },
  {
   "cell_type": "code",
   "execution_count": 23,
   "id": "306b258c-09d7-4784-b13d-e5c2e5751837",
   "metadata": {},
   "outputs": [
    {
     "data": {
      "image/png": "[encoded data removed]",
      "text/plain": [
       "<Figure size 432x288 with 1 Axes>"
      ]
     },
     "metadata": {
      "needs_background": "light"
     },
     "output_type": "display_data"
    }
   ],
   "source": [
    "sns.kdeplot(x=df_new[\"Discount_offered\"]);"
   ]
  },
  {
   "cell_type": "code",
   "execution_count": 24,
   "id": "15b98755-ab6f-45e1-a3f6-a54841b103e6",
   "metadata": {},
   "outputs": [
    {
     "data": {
      "text/html": [
       "<div>\n",
       "<style scoped>\n",
       "    .dataframe tbody tr th:only-of-type {\n",
       "        vertical-align: middle;\n",
       "    }\n",
       "\n",
       "    .dataframe tbody tr th {\n",
       "        vertical-align: top;\n",
       "    }\n",
       "\n",
       "    .dataframe thead th {\n",
       "        text-align: right;\n",
       "    }\n",
       "</style>\n",
       "<table border=\"1\" class=\"dataframe\">\n",
       "  <thead>\n",
       "    <tr style=\"text-align: right;\">\n",
       "      <th></th>\n",
       "      <th>index</th>\n",
       "      <th>Discount_offered</th>\n",
       "    </tr>\n",
       "  </thead>\n",
       "  <tbody>\n",
       "    <tr>\n",
       "      <th>0</th>\n",
       "      <td>skew</td>\n",
       "      <td>1.798929</td>\n",
       "    </tr>\n",
       "    <tr>\n",
       "      <th>1</th>\n",
       "      <td>kurtosis</td>\n",
       "      <td>2.000586</td>\n",
       "    </tr>\n",
       "  </tbody>\n",
       "</table>\n",
       "</div>"
      ],
      "text/plain": [
       "      index  Discount_offered\n",
       "0      skew          1.798929\n",
       "1  kurtosis          2.000586"
      ]
     },
     "execution_count": 24,
     "metadata": {},
     "output_type": "execute_result"
    }
   ],
   "source": [
    "df_new[('Discount_offered')].agg(['skew', 'kurtosis']).transpose().reset_index()"
   ]
  },
  {
   "cell_type": "code",
   "execution_count": 25,
   "id": "d0fc7843-7db3-4a4c-b361-d49cd302a6e0",
   "metadata": {},
   "outputs": [],
   "source": [
    "df_new['Discount_offered'] = np.random.exponential(size=10999)"
   ]
  },
  {
   "cell_type": "code",
   "execution_count": 26,
   "id": "dc966a88-2672-4ccd-90e2-ae57f7f0c351",
   "metadata": {},
   "outputs": [
    {
     "name": "stderr",
     "output_type": "stream",
     "text": [
      "C:\\Users\\ASUS TUF\\anaconda3\\lib\\site-packages\\seaborn\\distributions.py:2619: FutureWarning: `distplot` is a deprecated function and will be removed in a future version. Please adapt your code to use either `displot` (a figure-level function with similar flexibility) or `kdeplot` (an axes-level function for kernel density plots).\n",
      "  warnings.warn(msg, FutureWarning)\n"
     ]
    },
    {
     "data": {
      "image/png": "[encoded data removed]",
      "text/plain": [
       "<Figure size 432x288 with 1 Axes>"
      ]
     },
     "metadata": {
      "needs_background": "light"
     },
     "output_type": "display_data"
    }
   ],
   "source": [
    "sns.distplot(df_new['Discount_offered'], hist=False, kde=True);"
   ]
  },
  {
   "cell_type": "code",
   "execution_count": 27,
   "id": "99006db7-4128-49a2-98aa-a98d789fb681",
   "metadata": {},
   "outputs": [],
   "source": [
    "df_new['Discount_offered_tf'], _ = boxcox(df_new['Discount_offered'])"
   ]
  },
  {
   "cell_type": "code",
   "execution_count": 28,
   "id": "943b25d6-5b65-4660-8a32-5ee8f1189978",
   "metadata": {},
   "outputs": [
    {
     "data": {
      "image/png": "[encoded data removed]",
      "text/plain": [
       "<Figure size 432x288 with 1 Axes>"
      ]
     },
     "metadata": {
      "needs_background": "light"
     },
     "output_type": "display_data"
    }
   ],
   "source": [
    "sns.kdeplot(x=df_new[\"Discount_offered_tf\"]);"
   ]
  },
  {
   "cell_type": "code",
   "execution_count": 29,
   "id": "1f460db8-5037-4763-99d2-622c0539287b",
   "metadata": {
    "tags": []
   },
   "outputs": [],
   "source": [
    "df_new['Discount_offered_tf'] = StandardScaler().fit_transform(df_new['Discount_offered'].values.reshape(len(df), 1))"
   ]
  },
  {
   "cell_type": "markdown",
   "id": "9a30676f-b41a-426d-a7c0-a2f49a8f0523",
   "metadata": {},
   "source": [
    "## Weight in gms"
   ]
  },
  {
   "cell_type": "code",
   "execution_count": 30,
   "id": "473670c9-d400-454c-80a7-b20781254753",
   "metadata": {},
   "outputs": [
    {
     "data": {
      "image/png": "[encoded data removed]",
      "text/plain": [
       "<Figure size 432x288 with 1 Axes>"
      ]
     },
     "metadata": {
      "needs_background": "light"
     },
     "output_type": "display_data"
    }
   ],
   "source": [
    "sns.kdeplot(x=df_new['Weight_in_gms']);"
   ]
  },
  {
   "cell_type": "code",
   "execution_count": 31,
   "id": "3c58f5b5-a302-425d-ad74-f5df3ec51a39",
   "metadata": {},
   "outputs": [
    {
     "data": {
      "text/html": [
       "<div>\n",
       "<style scoped>\n",
       "    .dataframe tbody tr th:only-of-type {\n",
       "        vertical-align: middle;\n",
       "    }\n",
       "\n",
       "    .dataframe tbody tr th {\n",
       "        vertical-align: top;\n",
       "    }\n",
       "\n",
       "    .dataframe thead th {\n",
       "        text-align: right;\n",
       "    }\n",
       "</style>\n",
       "<table border=\"1\" class=\"dataframe\">\n",
       "  <thead>\n",
       "    <tr style=\"text-align: right;\">\n",
       "      <th></th>\n",
       "      <th>index</th>\n",
       "      <th>Weight_in_gms</th>\n",
       "    </tr>\n",
       "  </thead>\n",
       "  <tbody>\n",
       "    <tr>\n",
       "      <th>0</th>\n",
       "      <td>skew</td>\n",
       "      <td>-0.249747</td>\n",
       "    </tr>\n",
       "    <tr>\n",
       "      <th>1</th>\n",
       "      <td>kurtosis</td>\n",
       "      <td>-1.447671</td>\n",
       "    </tr>\n",
       "  </tbody>\n",
       "</table>\n",
       "</div>"
      ],
      "text/plain": [
       "      index  Weight_in_gms\n",
       "0      skew      -0.249747\n",
       "1  kurtosis      -1.447671"
      ]
     },
     "execution_count": 31,
     "metadata": {},
     "output_type": "execute_result"
    }
   ],
   "source": [
    "df_new[('Weight_in_gms')].agg(['skew', 'kurtosis']).transpose().reset_index()"
   ]
  },
  {
   "cell_type": "code",
   "execution_count": 32,
   "id": "a43def5b-980a-43b4-954b-cbb3d38e060b",
   "metadata": {},
   "outputs": [],
   "source": [
    "df_new['Weight_in_gms'] = np.random.exponential(size=10999)"
   ]
  },
  {
   "cell_type": "code",
   "execution_count": 33,
   "id": "760e7956-d0e9-4f3f-80e6-8e9fd0210822",
   "metadata": {},
   "outputs": [
    {
     "name": "stderr",
     "output_type": "stream",
     "text": [
      "C:\\Users\\ASUS TUF\\anaconda3\\lib\\site-packages\\seaborn\\distributions.py:2619: FutureWarning: `distplot` is a deprecated function and will be removed in a future version. Please adapt your code to use either `displot` (a figure-level function with similar flexibility) or `kdeplot` (an axes-level function for kernel density plots).\n",
      "  warnings.warn(msg, FutureWarning)\n"
     ]
    },
    {
     "data": {
      "image/png": "[encoded data removed]",
      "text/plain": [
       "<Figure size 432x288 with 1 Axes>"
      ]
     },
     "metadata": {
      "needs_background": "light"
     },
     "output_type": "display_data"
    }
   ],
   "source": [
    "sns.distplot(df_new['Weight_in_gms'], hist=False, kde=True);"
   ]
  },
  {
   "cell_type": "code",
   "execution_count": 34,
   "id": "829a35c7-262d-4250-b557-8b2353f113d2",
   "metadata": {},
   "outputs": [],
   "source": [
    "df_new['Weight_in_gms_tf'], _ = boxcox(df_new['Weight_in_gms'])"
   ]
  },
  {
   "cell_type": "code",
   "execution_count": 35,
   "id": "c38bcd61-0311-43c7-8814-29d37c2748a5",
   "metadata": {},
   "outputs": [
    {
     "data": {
      "image/png": "[encoded data removed]",
      "text/plain": [
       "<Figure size 432x288 with 1 Axes>"
      ]
     },
     "metadata": {
      "needs_background": "light"
     },
     "output_type": "display_data"
    }
   ],
   "source": [
    "sns.kdeplot(x=df_new['Weight_in_gms_tf']);"
   ]
  },
  {
   "cell_type": "code",
   "execution_count": 36,
   "id": "1692d248-07a2-4465-a200-d3c6f029b5f8",
   "metadata": {},
   "outputs": [],
   "source": [
    "df_new['Weight_in_gms_tf'] = StandardScaler().fit_transform(df['Weight_in_gms'].values.reshape(len(df), 1))"
   ]
  },
  {
   "cell_type": "code",
   "execution_count": 37,
   "id": "4c0273f1-e9a3-452b-bee1-c46db475127e",
   "metadata": {},
   "outputs": [
    {
     "name": "stdout",
     "output_type": "stream",
     "text": [
      "<class 'pandas.core.frame.DataFrame'>\n",
      "RangeIndex: 10999 entries, 0 to 10998\n",
      "Data columns (total 14 columns):\n",
      " #   Column                  Non-Null Count  Dtype  \n",
      "---  ------                  --------------  -----  \n",
      " 0   Warehouse_block         10999 non-null  object \n",
      " 1   Mode_of_Shipment        10999 non-null  object \n",
      " 2   Customer_care_calls     10999 non-null  int64  \n",
      " 3   Customer_rating         10999 non-null  int64  \n",
      " 4   Cost_of_the_Product     10999 non-null  float64\n",
      " 5   Prior_purchases         10999 non-null  int64  \n",
      " 6   Product_importance      10999 non-null  object \n",
      " 7   Gender                  10999 non-null  object \n",
      " 8   Discount_offered        10999 non-null  float64\n",
      " 9   Weight_in_gms           10999 non-null  float64\n",
      " 10  Reached_on_Time         10999 non-null  int64  \n",
      " 11  Cost_of_the_Product_tf  10999 non-null  float64\n",
      " 12  Discount_offered_tf     10999 non-null  float64\n",
      " 13  Weight_in_gms_tf        10999 non-null  float64\n",
      "dtypes: float64(6), int64(4), object(4)\n",
      "memory usage: 1.2+ MB\n"
     ]
    }
   ],
   "source": [
    "df_new.info()"
   ]
  },
  {
   "cell_type": "code",
   "execution_count": 38,
   "id": "67ac2261-a2a3-4374-843a-1fe6f478e44b",
   "metadata": {},
   "outputs": [],
   "source": [
    "df_new = df_new.drop(columns=['Discount_offered', 'Cost_of_the_Product','Weight_in_gms'])"
   ]
  },
  {
   "cell_type": "code",
   "execution_count": 39,
   "id": "fab65d4c-bff2-4df2-8d4c-8830e20c9067",
   "metadata": {},
   "outputs": [
    {
     "name": "stdout",
     "output_type": "stream",
     "text": [
      "<class 'pandas.core.frame.DataFrame'>\n",
      "RangeIndex: 10999 entries, 0 to 10998\n",
      "Data columns (total 11 columns):\n",
      " #   Column                  Non-Null Count  Dtype  \n",
      "---  ------                  --------------  -----  \n",
      " 0   Warehouse_block         10999 non-null  object \n",
      " 1   Mode_of_Shipment        10999 non-null  object \n",
      " 2   Customer_care_calls     10999 non-null  int64  \n",
      " 3   Customer_rating         10999 non-null  int64  \n",
      " 4   Prior_purchases         10999 non-null  int64  \n",
      " 5   Product_importance      10999 non-null  object \n",
      " 6   Gender                  10999 non-null  object \n",
      " 7   Reached_on_Time         10999 non-null  int64  \n",
      " 8   Cost_of_the_Product_tf  10999 non-null  float64\n",
      " 9   Discount_offered_tf     10999 non-null  float64\n",
      " 10  Weight_in_gms_tf        10999 non-null  float64\n",
      "dtypes: float64(3), int64(4), object(4)\n",
      "memory usage: 945.4+ KB\n"
     ]
    }
   ],
   "source": [
    "df_new.info()"
   ]
  },
  {
   "cell_type": "markdown",
   "id": "d0e24215-ea38-42f0-aeb4-2c6a5be3537f",
   "metadata": {},
   "source": [
    "# E. Feature encoding"
   ]
  },
  {
   "cell_type": "code",
   "execution_count": 40,
   "id": "a5a89eaa-5dd4-4bd6-b471-b3c74f0d97fd",
   "metadata": {},
   "outputs": [
    {
     "data": {
      "text/html": [
       "<div>\n",
       "<style scoped>\n",
       "    .dataframe tbody tr th:only-of-type {\n",
       "        vertical-align: middle;\n",
       "    }\n",
       "\n",
       "    .dataframe tbody tr th {\n",
       "        vertical-align: top;\n",
       "    }\n",
       "\n",
       "    .dataframe thead th {\n",
       "        text-align: right;\n",
       "    }\n",
       "</style>\n",
       "<table border=\"1\" class=\"dataframe\">\n",
       "  <thead>\n",
       "    <tr style=\"text-align: right;\">\n",
       "      <th></th>\n",
       "      <th>Warehouse_block</th>\n",
       "      <th>Mode_of_Shipment</th>\n",
       "      <th>Customer_care_calls</th>\n",
       "      <th>Customer_rating</th>\n",
       "      <th>Prior_purchases</th>\n",
       "      <th>Product_importance</th>\n",
       "      <th>Gender</th>\n",
       "      <th>Reached_on_Time</th>\n",
       "      <th>Cost_of_the_Product_tf</th>\n",
       "      <th>Discount_offered_tf</th>\n",
       "      <th>Weight_in_gms_tf</th>\n",
       "    </tr>\n",
       "  </thead>\n",
       "  <tbody>\n",
       "    <tr>\n",
       "      <th>0</th>\n",
       "      <td>D</td>\n",
       "      <td>Flight</td>\n",
       "      <td>4</td>\n",
       "      <td>2</td>\n",
       "      <td>3</td>\n",
       "      <td>low</td>\n",
       "      <td>F</td>\n",
       "      <td>1</td>\n",
       "      <td>0.671334</td>\n",
       "      <td>-0.457650</td>\n",
       "      <td>-1.468240</td>\n",
       "    </tr>\n",
       "    <tr>\n",
       "      <th>1</th>\n",
       "      <td>E</td>\n",
       "      <td>Flight</td>\n",
       "      <td>4</td>\n",
       "      <td>5</td>\n",
       "      <td>2</td>\n",
       "      <td>low</td>\n",
       "      <td>M</td>\n",
       "      <td>1</td>\n",
       "      <td>-0.405201</td>\n",
       "      <td>1.031054</td>\n",
       "      <td>-0.333893</td>\n",
       "    </tr>\n",
       "    <tr>\n",
       "      <th>2</th>\n",
       "      <td>A</td>\n",
       "      <td>Flight</td>\n",
       "      <td>2</td>\n",
       "      <td>2</td>\n",
       "      <td>4</td>\n",
       "      <td>low</td>\n",
       "      <td>M</td>\n",
       "      <td>1</td>\n",
       "      <td>-0.847475</td>\n",
       "      <td>0.165101</td>\n",
       "      <td>-0.159002</td>\n",
       "    </tr>\n",
       "    <tr>\n",
       "      <th>3</th>\n",
       "      <td>B</td>\n",
       "      <td>Flight</td>\n",
       "      <td>3</td>\n",
       "      <td>3</td>\n",
       "      <td>4</td>\n",
       "      <td>medium</td>\n",
       "      <td>M</td>\n",
       "      <td>1</td>\n",
       "      <td>4.926276</td>\n",
       "      <td>1.244338</td>\n",
       "      <td>-1.502484</td>\n",
       "    </tr>\n",
       "    <tr>\n",
       "      <th>4</th>\n",
       "      <td>C</td>\n",
       "      <td>Flight</td>\n",
       "      <td>2</td>\n",
       "      <td>2</td>\n",
       "      <td>3</td>\n",
       "      <td>medium</td>\n",
       "      <td>F</td>\n",
       "      <td>1</td>\n",
       "      <td>-0.563795</td>\n",
       "      <td>-0.360743</td>\n",
       "      <td>-0.703244</td>\n",
       "    </tr>\n",
       "  </tbody>\n",
       "</table>\n",
       "</div>"
      ],
      "text/plain": [
       "  Warehouse_block Mode_of_Shipment  Customer_care_calls  Customer_rating  \\\n",
       "0               D           Flight                    4                2   \n",
       "1               E           Flight                    4                5   \n",
       "2               A           Flight                    2                2   \n",
       "3               B           Flight                    3                3   \n",
       "4               C           Flight                    2                2   \n",
       "\n",
       "   Prior_purchases Product_importance Gender  Reached_on_Time  \\\n",
       "0                3                low      F                1   \n",
       "1                2                low      M                1   \n",
       "2                4                low      M                1   \n",
       "3                4             medium      M                1   \n",
       "4                3             medium      F                1   \n",
       "\n",
       "   Cost_of_the_Product_tf  Discount_offered_tf  Weight_in_gms_tf  \n",
       "0                0.671334            -0.457650         -1.468240  \n",
       "1               -0.405201             1.031054         -0.333893  \n",
       "2               -0.847475             0.165101         -0.159002  \n",
       "3                4.926276             1.244338         -1.502484  \n",
       "4               -0.563795            -0.360743         -0.703244  "
      ]
     },
     "execution_count": 40,
     "metadata": {},
     "output_type": "execute_result"
    }
   ],
   "source": [
    "df_new.head(5)"
   ]
  },
  {
   "cell_type": "code",
   "execution_count": 41,
   "id": "34865d25-3d54-49a7-b3a3-4c8dcb01c0ab",
   "metadata": {},
   "outputs": [],
   "source": [
    "# jenis_kelamin & pendidikan label encoding\n",
    "mapping_jenis_kelamin = {\n",
    "    'F' : 0,\n",
    "    'M' : 1\n",
    "}\n",
    "\n",
    "mapping_warehouse_block = {\n",
    "    'A' : 0,\n",
    "    'B' : 1,\n",
    "    'C' : 2,\n",
    "    'D' : 3,\n",
    "    'E' : 4\n",
    "}\n",
    "\n",
    "mapping_product_importance = {\n",
    "    'low' : 0,\n",
    "    'medium' : 1,\n",
    "    'high' : 2\n",
    "}\n",
    "\n",
    "df_new['Gender'] = df_new['Gender'].map(mapping_jenis_kelamin)\n",
    "df_new['Warehouse_block'] = df_new['Warehouse_block'].map(mapping_warehouse_block)\n",
    "df_new['Product_importance'] = df_new['Product_importance'].map(mapping_product_importance)"
   ]
  },
  {
   "cell_type": "code",
   "execution_count": 42,
   "id": "c9740803-67a0-4b50-a2cc-dd4d4ac04c7c",
   "metadata": {},
   "outputs": [],
   "source": [
    "# one hot encoding\n",
    "for cat in ['Mode_of_Shipment']:\n",
    "    onehots = pd.get_dummies(df_new[cat], prefix=cat)\n",
    "    df_new = df_new.join(onehots)"
   ]
  },
  {
   "cell_type": "code",
   "execution_count": 43,
   "id": "2a1feef2-b701-43e4-b7fa-44673a3800e1",
   "metadata": {},
   "outputs": [
    {
     "data": {
      "text/html": [
       "<div>\n",
       "<style scoped>\n",
       "    .dataframe tbody tr th:only-of-type {\n",
       "        vertical-align: middle;\n",
       "    }\n",
       "\n",
       "    .dataframe tbody tr th {\n",
       "        vertical-align: top;\n",
       "    }\n",
       "\n",
       "    .dataframe thead th {\n",
       "        text-align: right;\n",
       "    }\n",
       "</style>\n",
       "<table border=\"1\" class=\"dataframe\">\n",
       "  <thead>\n",
       "    <tr style=\"text-align: right;\">\n",
       "      <th></th>\n",
       "      <th>Warehouse_block</th>\n",
       "      <th>Mode_of_Shipment</th>\n",
       "      <th>Customer_care_calls</th>\n",
       "      <th>Customer_rating</th>\n",
       "      <th>Prior_purchases</th>\n",
       "      <th>Product_importance</th>\n",
       "      <th>Gender</th>\n",
       "      <th>Reached_on_Time</th>\n",
       "      <th>Cost_of_the_Product_tf</th>\n",
       "      <th>Discount_offered_tf</th>\n",
       "      <th>Weight_in_gms_tf</th>\n",
       "      <th>Mode_of_Shipment_Flight</th>\n",
       "      <th>Mode_of_Shipment_Road</th>\n",
       "      <th>Mode_of_Shipment_Ship</th>\n",
       "    </tr>\n",
       "  </thead>\n",
       "  <tbody>\n",
       "    <tr>\n",
       "      <th>0</th>\n",
       "      <td>3</td>\n",
       "      <td>Flight</td>\n",
       "      <td>4</td>\n",
       "      <td>2</td>\n",
       "      <td>3</td>\n",
       "      <td>0</td>\n",
       "      <td>0</td>\n",
       "      <td>1</td>\n",
       "      <td>0.671334</td>\n",
       "      <td>-0.457650</td>\n",
       "      <td>-1.468240</td>\n",
       "      <td>1</td>\n",
       "      <td>0</td>\n",
       "      <td>0</td>\n",
       "    </tr>\n",
       "    <tr>\n",
       "      <th>1</th>\n",
       "      <td>4</td>\n",
       "      <td>Flight</td>\n",
       "      <td>4</td>\n",
       "      <td>5</td>\n",
       "      <td>2</td>\n",
       "      <td>0</td>\n",
       "      <td>1</td>\n",
       "      <td>1</td>\n",
       "      <td>-0.405201</td>\n",
       "      <td>1.031054</td>\n",
       "      <td>-0.333893</td>\n",
       "      <td>1</td>\n",
       "      <td>0</td>\n",
       "      <td>0</td>\n",
       "    </tr>\n",
       "    <tr>\n",
       "      <th>2</th>\n",
       "      <td>0</td>\n",
       "      <td>Flight</td>\n",
       "      <td>2</td>\n",
       "      <td>2</td>\n",
       "      <td>4</td>\n",
       "      <td>0</td>\n",
       "      <td>1</td>\n",
       "      <td>1</td>\n",
       "      <td>-0.847475</td>\n",
       "      <td>0.165101</td>\n",
       "      <td>-0.159002</td>\n",
       "      <td>1</td>\n",
       "      <td>0</td>\n",
       "      <td>0</td>\n",
       "    </tr>\n",
       "    <tr>\n",
       "      <th>3</th>\n",
       "      <td>1</td>\n",
       "      <td>Flight</td>\n",
       "      <td>3</td>\n",
       "      <td>3</td>\n",
       "      <td>4</td>\n",
       "      <td>1</td>\n",
       "      <td>1</td>\n",
       "      <td>1</td>\n",
       "      <td>4.926276</td>\n",
       "      <td>1.244338</td>\n",
       "      <td>-1.502484</td>\n",
       "      <td>1</td>\n",
       "      <td>0</td>\n",
       "      <td>0</td>\n",
       "    </tr>\n",
       "    <tr>\n",
       "      <th>4</th>\n",
       "      <td>2</td>\n",
       "      <td>Flight</td>\n",
       "      <td>2</td>\n",
       "      <td>2</td>\n",
       "      <td>3</td>\n",
       "      <td>1</td>\n",
       "      <td>0</td>\n",
       "      <td>1</td>\n",
       "      <td>-0.563795</td>\n",
       "      <td>-0.360743</td>\n",
       "      <td>-0.703244</td>\n",
       "      <td>1</td>\n",
       "      <td>0</td>\n",
       "      <td>0</td>\n",
       "    </tr>\n",
       "  </tbody>\n",
       "</table>\n",
       "</div>"
      ],
      "text/plain": [
       "   Warehouse_block Mode_of_Shipment  Customer_care_calls  Customer_rating  \\\n",
       "0                3           Flight                    4                2   \n",
       "1                4           Flight                    4                5   \n",
       "2                0           Flight                    2                2   \n",
       "3                1           Flight                    3                3   \n",
       "4                2           Flight                    2                2   \n",
       "\n",
       "   Prior_purchases  Product_importance  Gender  Reached_on_Time  \\\n",
       "0                3                   0       0                1   \n",
       "1                2                   0       1                1   \n",
       "2                4                   0       1                1   \n",
       "3                4                   1       1                1   \n",
       "4                3                   1       0                1   \n",
       "\n",
       "   Cost_of_the_Product_tf  Discount_offered_tf  Weight_in_gms_tf  \\\n",
       "0                0.671334            -0.457650         -1.468240   \n",
       "1               -0.405201             1.031054         -0.333893   \n",
       "2               -0.847475             0.165101         -0.159002   \n",
       "3                4.926276             1.244338         -1.502484   \n",
       "4               -0.563795            -0.360743         -0.703244   \n",
       "\n",
       "   Mode_of_Shipment_Flight  Mode_of_Shipment_Road  Mode_of_Shipment_Ship  \n",
       "0                        1                      0                      0  \n",
       "1                        1                      0                      0  \n",
       "2                        1                      0                      0  \n",
       "3                        1                      0                      0  \n",
       "4                        1                      0                      0  "
      ]
     },
     "execution_count": 43,
     "metadata": {},
     "output_type": "execute_result"
    }
   ],
   "source": [
    "df_new.head(5)"
   ]
  },
  {
   "cell_type": "code",
   "execution_count": 44,
   "id": "795525bd-d80a-424b-834c-39614e4645eb",
   "metadata": {},
   "outputs": [],
   "source": [
    "df_new = df_new.drop(columns= 'Mode_of_Shipment')"
   ]
  },
  {
   "cell_type": "code",
   "execution_count": 45,
   "id": "a92d0f55-766e-4f5c-a4c2-4d6a3530c782",
   "metadata": {},
   "outputs": [
    {
     "name": "stdout",
     "output_type": "stream",
     "text": [
      "<class 'pandas.core.frame.DataFrame'>\n",
      "RangeIndex: 10999 entries, 0 to 10998\n",
      "Data columns (total 13 columns):\n",
      " #   Column                   Non-Null Count  Dtype  \n",
      "---  ------                   --------------  -----  \n",
      " 0   Warehouse_block          10999 non-null  int64  \n",
      " 1   Customer_care_calls      10999 non-null  int64  \n",
      " 2   Customer_rating          10999 non-null  int64  \n",
      " 3   Prior_purchases          10999 non-null  int64  \n",
      " 4   Product_importance       10999 non-null  int64  \n",
      " 5   Gender                   10999 non-null  int64  \n",
      " 6   Reached_on_Time          10999 non-null  int64  \n",
      " 7   Cost_of_the_Product_tf   10999 non-null  float64\n",
      " 8   Discount_offered_tf      10999 non-null  float64\n",
      " 9   Weight_in_gms_tf         10999 non-null  float64\n",
      " 10  Mode_of_Shipment_Flight  10999 non-null  uint8  \n",
      " 11  Mode_of_Shipment_Road    10999 non-null  uint8  \n",
      " 12  Mode_of_Shipment_Ship    10999 non-null  uint8  \n",
      "dtypes: float64(3), int64(7), uint8(3)\n",
      "memory usage: 891.6 KB\n"
     ]
    }
   ],
   "source": [
    "df_new.info()"
   ]
  },
  {
   "cell_type": "markdown",
   "id": "58f75a44-eaab-4f1e-b25f-360cf3cc67d5",
   "metadata": {},
   "source": [
    "# F. Handle class imbalance"
   ]
  },
  {
   "cell_type": "code",
   "execution_count": 46,
   "id": "b6e2d146-bdc9-432f-8afe-7ef6c769e971",
   "metadata": {
    "tags": []
   },
   "outputs": [
    {
     "name": "stdout",
     "output_type": "stream",
     "text": [
      "1    0.596691\n",
      "0    0.403309\n",
      "Name: Reached_on_Time, dtype: float64\n"
     ]
    }
   ],
   "source": [
    "print(df_new['Reached_on_Time'].value_counts(normalize=True))"
   ]
  },
  {
   "cell_type": "markdown",
   "id": "f4452751-09d1-454f-801f-9fe737c777b1",
   "metadata": {},
   "source": [
    "Kesimpulannya tidak ada data yang harus di lakukan metode class imbalance dikarenakan data yang kita punya memiliki distribusi bimodal/negatif"
   ]
  },
  {
   "cell_type": "code",
   "execution_count": 48,
   "id": "d0d7c3a6-7246-425c-b929-757313fa406e",
   "metadata": {},
   "outputs": [
    {
     "data": {
      "text/html": [
       "<div>\n",
       "<style scoped>\n",
       "    .dataframe tbody tr th:only-of-type {\n",
       "        vertical-align: middle;\n",
       "    }\n",
       "\n",
       "    .dataframe tbody tr th {\n",
       "        vertical-align: top;\n",
       "    }\n",
       "\n",
       "    .dataframe thead th {\n",
       "        text-align: right;\n",
       "    }\n",
       "</style>\n",
       "<table border=\"1\" class=\"dataframe\">\n",
       "  <thead>\n",
       "    <tr style=\"text-align: right;\">\n",
       "      <th></th>\n",
       "      <th>Warehouse_block</th>\n",
       "      <th>Customer_care_calls</th>\n",
       "      <th>Customer_rating</th>\n",
       "      <th>Prior_purchases</th>\n",
       "      <th>Product_importance</th>\n",
       "      <th>Gender</th>\n",
       "      <th>Reached_on_Time</th>\n",
       "      <th>Cost_of_the_Product_tf</th>\n",
       "      <th>Discount_offered_tf</th>\n",
       "      <th>Weight_in_gms_tf</th>\n",
       "      <th>Mode_of_Shipment_Flight</th>\n",
       "      <th>Mode_of_Shipment_Road</th>\n",
       "      <th>Mode_of_Shipment_Ship</th>\n",
       "    </tr>\n",
       "  </thead>\n",
       "  <tbody>\n",
       "    <tr>\n",
       "      <th>0</th>\n",
       "      <td>3</td>\n",
       "      <td>4</td>\n",
       "      <td>2</td>\n",
       "      <td>3</td>\n",
       "      <td>0</td>\n",
       "      <td>0</td>\n",
       "      <td>1</td>\n",
       "      <td>0.671334</td>\n",
       "      <td>-0.457650</td>\n",
       "      <td>-1.468240</td>\n",
       "      <td>1</td>\n",
       "      <td>0</td>\n",
       "      <td>0</td>\n",
       "    </tr>\n",
       "    <tr>\n",
       "      <th>1</th>\n",
       "      <td>4</td>\n",
       "      <td>4</td>\n",
       "      <td>5</td>\n",
       "      <td>2</td>\n",
       "      <td>0</td>\n",
       "      <td>1</td>\n",
       "      <td>1</td>\n",
       "      <td>-0.405201</td>\n",
       "      <td>1.031054</td>\n",
       "      <td>-0.333893</td>\n",
       "      <td>1</td>\n",
       "      <td>0</td>\n",
       "      <td>0</td>\n",
       "    </tr>\n",
       "    <tr>\n",
       "      <th>2</th>\n",
       "      <td>0</td>\n",
       "      <td>2</td>\n",
       "      <td>2</td>\n",
       "      <td>4</td>\n",
       "      <td>0</td>\n",
       "      <td>1</td>\n",
       "      <td>1</td>\n",
       "      <td>-0.847475</td>\n",
       "      <td>0.165101</td>\n",
       "      <td>-0.159002</td>\n",
       "      <td>1</td>\n",
       "      <td>0</td>\n",
       "      <td>0</td>\n",
       "    </tr>\n",
       "    <tr>\n",
       "      <th>3</th>\n",
       "      <td>1</td>\n",
       "      <td>3</td>\n",
       "      <td>3</td>\n",
       "      <td>4</td>\n",
       "      <td>1</td>\n",
       "      <td>1</td>\n",
       "      <td>1</td>\n",
       "      <td>4.926276</td>\n",
       "      <td>1.244338</td>\n",
       "      <td>-1.502484</td>\n",
       "      <td>1</td>\n",
       "      <td>0</td>\n",
       "      <td>0</td>\n",
       "    </tr>\n",
       "    <tr>\n",
       "      <th>4</th>\n",
       "      <td>2</td>\n",
       "      <td>2</td>\n",
       "      <td>2</td>\n",
       "      <td>3</td>\n",
       "      <td>1</td>\n",
       "      <td>0</td>\n",
       "      <td>1</td>\n",
       "      <td>-0.563795</td>\n",
       "      <td>-0.360743</td>\n",
       "      <td>-0.703244</td>\n",
       "      <td>1</td>\n",
       "      <td>0</td>\n",
       "      <td>0</td>\n",
       "    </tr>\n",
       "  </tbody>\n",
       "</table>\n",
       "</div>"
      ],
      "text/plain": [
       "   Warehouse_block  Customer_care_calls  Customer_rating  Prior_purchases  \\\n",
       "0                3                    4                2                3   \n",
       "1                4                    4                5                2   \n",
       "2                0                    2                2                4   \n",
       "3                1                    3                3                4   \n",
       "4                2                    2                2                3   \n",
       "\n",
       "   Product_importance  Gender  Reached_on_Time  Cost_of_the_Product_tf  \\\n",
       "0                   0       0                1                0.671334   \n",
       "1                   0       1                1               -0.405201   \n",
       "2                   0       1                1               -0.847475   \n",
       "3                   1       1                1                4.926276   \n",
       "4                   1       0                1               -0.563795   \n",
       "\n",
       "   Discount_offered_tf  Weight_in_gms_tf  Mode_of_Shipment_Flight  \\\n",
       "0            -0.457650         -1.468240                        1   \n",
       "1             1.031054         -0.333893                        1   \n",
       "2             0.165101         -0.159002                        1   \n",
       "3             1.244338         -1.502484                        1   \n",
       "4            -0.360743         -0.703244                        1   \n",
       "\n",
       "   Mode_of_Shipment_Road  Mode_of_Shipment_Ship  \n",
       "0                      0                      0  \n",
       "1                      0                      0  \n",
       "2                      0                      0  \n",
       "3                      0                      0  \n",
       "4                      0                      0  "
      ]
     },
     "execution_count": 48,
     "metadata": {},
     "output_type": "execute_result"
    }
   ],
   "source": [
    "df_new.head()"
   ]
  },
  {
   "cell_type": "markdown",
   "id": "476c6b3d-800d-478e-8bd9-ca91a697103b",
   "metadata": {},
   "source": [
    "# 2. Feature Engineering"
   ]
  },
  {
   "cell_type": "markdown",
   "id": "a2ba2a3c-9910-4942-8ac0-32599008fe36",
   "metadata": {},
   "source": [
    "Cek feature yang ada sekarang, lalu lakukan: <br>\n",
    "A. Feature selection (membuang feature yang kurang relevan atau redundan) <br>\n",
    "* Membuang kolom id karena kolom id bersifat unique\n",
    "\n",
    "B. Feature extraction (membuat feature baru dari feature yang sudah ada) <br>\n",
    "* (Logistic performance) Membuat pola berdasarkan weight in grams, dan memprediksi mode pengiriman yang cocok untuk berat yang sudah tertera pada data\n",
    "\n",
    "C. Tuliskan minimal 4 feature tambahan (selain yang sudah tersedia di dataset) yang mungkin sangat membantu performansi model semakin bagus (ini hanya ide saja, untuk menguji kreativitas teman-teman, tidak perlu benar-benar dicari datanya dan tidak perlu diimplementasikan) <br>\n",
    "* Tanggal order\n",
    "* Tanggal delivery\n",
    "* Lokasi order\n",
    "* Tipe barang yang dikirim\n",
    "* Jenis layanan \n",
    "<br>\n",
    "\n",
    "* Untuk 2A & 2B, tetap tuliskan jika memang tidak bisa dilakukan (contoh: \"Semua feature digunakan untuk modeling (tidak ada yang dihapus), karena semua feature relevan\")"
   ]
  },
  {
   "cell_type": "code",
   "execution_count": null,
   "id": "49792f14-731d-44e7-ab47-e5ff5aec6711",
   "metadata": {},
   "outputs": [],
   "source": []
  }
 ],
 "metadata": {
  "kernelspec": {
   "display_name": "Python 3 (ipykernel)",
   "language": "python",
   "name": "python3"
  },
  "language_info": {
   "codemirror_mode": {
    "name": "ipython",
    "version": 3
   },
   "file_extension": ".py",
   "mimetype": "text/x-python",
   "name": "python",
   "nbconvert_exporter": "python",
   "pygments_lexer": "ipython3",
   "version": "3.9.7"
  }
 },
 "nbformat": 4,
 "nbformat_minor": 5
}
